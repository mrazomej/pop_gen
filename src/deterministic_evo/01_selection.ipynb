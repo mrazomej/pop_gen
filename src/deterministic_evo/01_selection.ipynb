{
 "cells": [
  {
   "cell_type": "markdown",
   "metadata": {},
   "source": [
    "# Deterministic selection"
   ]
  },
  {
   "cell_type": "markdown",
   "metadata": {},
   "source": [
    "(c) 2019 Manuel Razo. This work is licensed under a [Creative Commons Attribution License CC-BY 4.0](https://creativecommons.org/licenses/by/4.0/). All code contained herein is licensed under an [MIT license](https://opensource.org/licenses/MIT)\n",
    "\n",
    "---"
   ]
  },
  {
   "cell_type": "code",
   "execution_count": 1,
   "metadata": {},
   "outputs": [
    {
     "data": {
      "text/html": [
       "\n",
       "    <div class=\"bk-root\">\n",
       "        <a href=\"https://bokeh.pydata.org\" target=\"_blank\" class=\"bk-logo bk-logo-small bk-logo-notebook\"></a>\n",
       "        <span id=\"1001\">Loading BokehJS ...</span>\n",
       "    </div>"
      ]
     },
     "metadata": {},
     "output_type": "display_data"
    },
    {
     "data": {
      "application/javascript": [
       "\n",
       "(function(root) {\n",
       "  function now() {\n",
       "    return new Date();\n",
       "  }\n",
       "\n",
       "  var force = true;\n",
       "\n",
       "  if (typeof root._bokeh_onload_callbacks === \"undefined\" || force === true) {\n",
       "    root._bokeh_onload_callbacks = [];\n",
       "    root._bokeh_is_loading = undefined;\n",
       "  }\n",
       "\n",
       "  var JS_MIME_TYPE = 'application/javascript';\n",
       "  var HTML_MIME_TYPE = 'text/html';\n",
       "  var EXEC_MIME_TYPE = 'application/vnd.bokehjs_exec.v0+json';\n",
       "  var CLASS_NAME = 'output_bokeh rendered_html';\n",
       "\n",
       "  /**\n",
       "   * Render data to the DOM node\n",
       "   */\n",
       "  function render(props, node) {\n",
       "    var script = document.createElement(\"script\");\n",
       "    node.appendChild(script);\n",
       "  }\n",
       "\n",
       "  /**\n",
       "   * Handle when an output is cleared or removed\n",
       "   */\n",
       "  function handleClearOutput(event, handle) {\n",
       "    var cell = handle.cell;\n",
       "\n",
       "    var id = cell.output_area._bokeh_element_id;\n",
       "    var server_id = cell.output_area._bokeh_server_id;\n",
       "    // Clean up Bokeh references\n",
       "    if (id != null && id in Bokeh.index) {\n",
       "      Bokeh.index[id].model.document.clear();\n",
       "      delete Bokeh.index[id];\n",
       "    }\n",
       "\n",
       "    if (server_id !== undefined) {\n",
       "      // Clean up Bokeh references\n",
       "      var cmd = \"from bokeh.io.state import curstate; print(curstate().uuid_to_server['\" + server_id + \"'].get_sessions()[0].document.roots[0]._id)\";\n",
       "      cell.notebook.kernel.execute(cmd, {\n",
       "        iopub: {\n",
       "          output: function(msg) {\n",
       "            var id = msg.content.text.trim();\n",
       "            if (id in Bokeh.index) {\n",
       "              Bokeh.index[id].model.document.clear();\n",
       "              delete Bokeh.index[id];\n",
       "            }\n",
       "          }\n",
       "        }\n",
       "      });\n",
       "      // Destroy server and session\n",
       "      var cmd = \"import bokeh.io.notebook as ion; ion.destroy_server('\" + server_id + \"')\";\n",
       "      cell.notebook.kernel.execute(cmd);\n",
       "    }\n",
       "  }\n",
       "\n",
       "  /**\n",
       "   * Handle when a new output is added\n",
       "   */\n",
       "  function handleAddOutput(event, handle) {\n",
       "    var output_area = handle.output_area;\n",
       "    var output = handle.output;\n",
       "\n",
       "    // limit handleAddOutput to display_data with EXEC_MIME_TYPE content only\n",
       "    if ((output.output_type != \"display_data\") || (!output.data.hasOwnProperty(EXEC_MIME_TYPE))) {\n",
       "      return\n",
       "    }\n",
       "\n",
       "    var toinsert = output_area.element.find(\".\" + CLASS_NAME.split(' ')[0]);\n",
       "\n",
       "    if (output.metadata[EXEC_MIME_TYPE][\"id\"] !== undefined) {\n",
       "      toinsert[toinsert.length - 1].firstChild.textContent = output.data[JS_MIME_TYPE];\n",
       "      // store reference to embed id on output_area\n",
       "      output_area._bokeh_element_id = output.metadata[EXEC_MIME_TYPE][\"id\"];\n",
       "    }\n",
       "    if (output.metadata[EXEC_MIME_TYPE][\"server_id\"] !== undefined) {\n",
       "      var bk_div = document.createElement(\"div\");\n",
       "      bk_div.innerHTML = output.data[HTML_MIME_TYPE];\n",
       "      var script_attrs = bk_div.children[0].attributes;\n",
       "      for (var i = 0; i < script_attrs.length; i++) {\n",
       "        toinsert[toinsert.length - 1].firstChild.setAttribute(script_attrs[i].name, script_attrs[i].value);\n",
       "      }\n",
       "      // store reference to server id on output_area\n",
       "      output_area._bokeh_server_id = output.metadata[EXEC_MIME_TYPE][\"server_id\"];\n",
       "    }\n",
       "  }\n",
       "\n",
       "  function register_renderer(events, OutputArea) {\n",
       "\n",
       "    function append_mime(data, metadata, element) {\n",
       "      // create a DOM node to render to\n",
       "      var toinsert = this.create_output_subarea(\n",
       "        metadata,\n",
       "        CLASS_NAME,\n",
       "        EXEC_MIME_TYPE\n",
       "      );\n",
       "      this.keyboard_manager.register_events(toinsert);\n",
       "      // Render to node\n",
       "      var props = {data: data, metadata: metadata[EXEC_MIME_TYPE]};\n",
       "      render(props, toinsert[toinsert.length - 1]);\n",
       "      element.append(toinsert);\n",
       "      return toinsert\n",
       "    }\n",
       "\n",
       "    /* Handle when an output is cleared or removed */\n",
       "    events.on('clear_output.CodeCell', handleClearOutput);\n",
       "    events.on('delete.Cell', handleClearOutput);\n",
       "\n",
       "    /* Handle when a new output is added */\n",
       "    events.on('output_added.OutputArea', handleAddOutput);\n",
       "\n",
       "    /**\n",
       "     * Register the mime type and append_mime function with output_area\n",
       "     */\n",
       "    OutputArea.prototype.register_mime_type(EXEC_MIME_TYPE, append_mime, {\n",
       "      /* Is output safe? */\n",
       "      safe: true,\n",
       "      /* Index of renderer in `output_area.display_order` */\n",
       "      index: 0\n",
       "    });\n",
       "  }\n",
       "\n",
       "  // register the mime type if in Jupyter Notebook environment and previously unregistered\n",
       "  if (root.Jupyter !== undefined) {\n",
       "    var events = require('base/js/events');\n",
       "    var OutputArea = require('notebook/js/outputarea').OutputArea;\n",
       "\n",
       "    if (OutputArea.prototype.mime_types().indexOf(EXEC_MIME_TYPE) == -1) {\n",
       "      register_renderer(events, OutputArea);\n",
       "    }\n",
       "  }\n",
       "\n",
       "  \n",
       "  if (typeof (root._bokeh_timeout) === \"undefined\" || force === true) {\n",
       "    root._bokeh_timeout = Date.now() + 5000;\n",
       "    root._bokeh_failed_load = false;\n",
       "  }\n",
       "\n",
       "  var NB_LOAD_WARNING = {'data': {'text/html':\n",
       "     \"<div style='background-color: #fdd'>\\n\"+\n",
       "     \"<p>\\n\"+\n",
       "     \"BokehJS does not appear to have successfully loaded. If loading BokehJS from CDN, this \\n\"+\n",
       "     \"may be due to a slow or bad network connection. Possible fixes:\\n\"+\n",
       "     \"</p>\\n\"+\n",
       "     \"<ul>\\n\"+\n",
       "     \"<li>re-rerun `output_notebook()` to attempt to load from CDN again, or</li>\\n\"+\n",
       "     \"<li>use INLINE resources instead, as so:</li>\\n\"+\n",
       "     \"</ul>\\n\"+\n",
       "     \"<code>\\n\"+\n",
       "     \"from bokeh.resources import INLINE\\n\"+\n",
       "     \"output_notebook(resources=INLINE)\\n\"+\n",
       "     \"</code>\\n\"+\n",
       "     \"</div>\"}};\n",
       "\n",
       "  function display_loaded() {\n",
       "    var el = document.getElementById(\"1001\");\n",
       "    if (el != null) {\n",
       "      el.textContent = \"BokehJS is loading...\";\n",
       "    }\n",
       "    if (root.Bokeh !== undefined) {\n",
       "      if (el != null) {\n",
       "        el.textContent = \"BokehJS \" + root.Bokeh.version + \" successfully loaded.\";\n",
       "      }\n",
       "    } else if (Date.now() < root._bokeh_timeout) {\n",
       "      setTimeout(display_loaded, 100)\n",
       "    }\n",
       "  }\n",
       "\n",
       "\n",
       "  function run_callbacks() {\n",
       "    try {\n",
       "      root._bokeh_onload_callbacks.forEach(function(callback) {\n",
       "        if (callback != null)\n",
       "          callback();\n",
       "      });\n",
       "    } finally {\n",
       "      delete root._bokeh_onload_callbacks\n",
       "    }\n",
       "    console.debug(\"Bokeh: all callbacks have finished\");\n",
       "  }\n",
       "\n",
       "  function load_libs(css_urls, js_urls, callback) {\n",
       "    if (css_urls == null) css_urls = [];\n",
       "    if (js_urls == null) js_urls = [];\n",
       "\n",
       "    root._bokeh_onload_callbacks.push(callback);\n",
       "    if (root._bokeh_is_loading > 0) {\n",
       "      console.debug(\"Bokeh: BokehJS is being loaded, scheduling callback at\", now());\n",
       "      return null;\n",
       "    }\n",
       "    if (js_urls == null || js_urls.length === 0) {\n",
       "      run_callbacks();\n",
       "      return null;\n",
       "    }\n",
       "    console.debug(\"Bokeh: BokehJS not loaded, scheduling load and callback at\", now());\n",
       "    root._bokeh_is_loading = css_urls.length + js_urls.length;\n",
       "\n",
       "    function on_load() {\n",
       "      root._bokeh_is_loading--;\n",
       "      if (root._bokeh_is_loading === 0) {\n",
       "        console.debug(\"Bokeh: all BokehJS libraries/stylesheets loaded\");\n",
       "        run_callbacks()\n",
       "      }\n",
       "    }\n",
       "\n",
       "    function on_error() {\n",
       "      console.error(\"failed to load \" + url);\n",
       "    }\n",
       "\n",
       "    for (var i = 0; i < css_urls.length; i++) {\n",
       "      var url = css_urls[i];\n",
       "      const element = document.createElement(\"link\");\n",
       "      element.onload = on_load;\n",
       "      element.onerror = on_error;\n",
       "      element.rel = \"stylesheet\";\n",
       "      element.type = \"text/css\";\n",
       "      element.href = url;\n",
       "      console.debug(\"Bokeh: injecting link tag for BokehJS stylesheet: \", url);\n",
       "      document.body.appendChild(element);\n",
       "    }\n",
       "\n",
       "    for (var i = 0; i < js_urls.length; i++) {\n",
       "      var url = js_urls[i];\n",
       "      var element = document.createElement('script');\n",
       "      element.onload = on_load;\n",
       "      element.onerror = on_error;\n",
       "      element.async = false;\n",
       "      element.src = url;\n",
       "      console.debug(\"Bokeh: injecting script tag for BokehJS library: \", url);\n",
       "      document.head.appendChild(element);\n",
       "    }\n",
       "  };var element = document.getElementById(\"1001\");\n",
       "  if (element == null) {\n",
       "    console.error(\"Bokeh: ERROR: autoload.js configured with elementid '1001' but no matching script tag was found. \")\n",
       "    return false;\n",
       "  }\n",
       "\n",
       "  function inject_raw_css(css) {\n",
       "    const element = document.createElement(\"style\");\n",
       "    element.appendChild(document.createTextNode(css));\n",
       "    document.body.appendChild(element);\n",
       "  }\n",
       "\n",
       "  var js_urls = [\"https://cdn.pydata.org/bokeh/release/bokeh-1.2.0.min.js\", \"https://cdn.pydata.org/bokeh/release/bokeh-widgets-1.2.0.min.js\", \"https://cdn.pydata.org/bokeh/release/bokeh-tables-1.2.0.min.js\", \"https://cdn.pydata.org/bokeh/release/bokeh-gl-1.2.0.min.js\"];\n",
       "  var css_urls = [\"https://cdn.pydata.org/bokeh/release/bokeh-1.2.0.min.css\", \"https://cdn.pydata.org/bokeh/release/bokeh-widgets-1.2.0.min.css\", \"https://cdn.pydata.org/bokeh/release/bokeh-tables-1.2.0.min.css\"];\n",
       "\n",
       "  var inline_js = [\n",
       "    function(Bokeh) {\n",
       "      Bokeh.set_log_level(\"info\");\n",
       "    },\n",
       "    \n",
       "    function(Bokeh) {\n",
       "      \n",
       "    },\n",
       "    function(Bokeh) {} // ensure no trailing comma for IE\n",
       "  ];\n",
       "\n",
       "  function run_inline_js() {\n",
       "    \n",
       "    if ((root.Bokeh !== undefined) || (force === true)) {\n",
       "      for (var i = 0; i < inline_js.length; i++) {\n",
       "        inline_js[i].call(root, root.Bokeh);\n",
       "      }if (force === true) {\n",
       "        display_loaded();\n",
       "      }} else if (Date.now() < root._bokeh_timeout) {\n",
       "      setTimeout(run_inline_js, 100);\n",
       "    } else if (!root._bokeh_failed_load) {\n",
       "      console.log(\"Bokeh: BokehJS failed to load within specified timeout.\");\n",
       "      root._bokeh_failed_load = true;\n",
       "    } else if (force !== true) {\n",
       "      var cell = $(document.getElementById(\"1001\")).parents('.cell').data().cell;\n",
       "      cell.output_area.append_execute_result(NB_LOAD_WARNING)\n",
       "    }\n",
       "\n",
       "  }\n",
       "\n",
       "  if (root._bokeh_is_loading === 0) {\n",
       "    console.debug(\"Bokeh: BokehJS loaded, going straight to plotting\");\n",
       "    run_inline_js();\n",
       "  } else {\n",
       "    load_libs(css_urls, js_urls, function() {\n",
       "      console.debug(\"Bokeh: BokehJS plotting callback run at\", now());\n",
       "      run_inline_js();\n",
       "    });\n",
       "  }\n",
       "}(window));"
      ],
      "application/vnd.bokehjs_load.v0+json": "\n(function(root) {\n  function now() {\n    return new Date();\n  }\n\n  var force = true;\n\n  if (typeof root._bokeh_onload_callbacks === \"undefined\" || force === true) {\n    root._bokeh_onload_callbacks = [];\n    root._bokeh_is_loading = undefined;\n  }\n\n  \n\n  \n  if (typeof (root._bokeh_timeout) === \"undefined\" || force === true) {\n    root._bokeh_timeout = Date.now() + 5000;\n    root._bokeh_failed_load = false;\n  }\n\n  var NB_LOAD_WARNING = {'data': {'text/html':\n     \"<div style='background-color: #fdd'>\\n\"+\n     \"<p>\\n\"+\n     \"BokehJS does not appear to have successfully loaded. If loading BokehJS from CDN, this \\n\"+\n     \"may be due to a slow or bad network connection. Possible fixes:\\n\"+\n     \"</p>\\n\"+\n     \"<ul>\\n\"+\n     \"<li>re-rerun `output_notebook()` to attempt to load from CDN again, or</li>\\n\"+\n     \"<li>use INLINE resources instead, as so:</li>\\n\"+\n     \"</ul>\\n\"+\n     \"<code>\\n\"+\n     \"from bokeh.resources import INLINE\\n\"+\n     \"output_notebook(resources=INLINE)\\n\"+\n     \"</code>\\n\"+\n     \"</div>\"}};\n\n  function display_loaded() {\n    var el = document.getElementById(\"1001\");\n    if (el != null) {\n      el.textContent = \"BokehJS is loading...\";\n    }\n    if (root.Bokeh !== undefined) {\n      if (el != null) {\n        el.textContent = \"BokehJS \" + root.Bokeh.version + \" successfully loaded.\";\n      }\n    } else if (Date.now() < root._bokeh_timeout) {\n      setTimeout(display_loaded, 100)\n    }\n  }\n\n\n  function run_callbacks() {\n    try {\n      root._bokeh_onload_callbacks.forEach(function(callback) {\n        if (callback != null)\n          callback();\n      });\n    } finally {\n      delete root._bokeh_onload_callbacks\n    }\n    console.debug(\"Bokeh: all callbacks have finished\");\n  }\n\n  function load_libs(css_urls, js_urls, callback) {\n    if (css_urls == null) css_urls = [];\n    if (js_urls == null) js_urls = [];\n\n    root._bokeh_onload_callbacks.push(callback);\n    if (root._bokeh_is_loading > 0) {\n      console.debug(\"Bokeh: BokehJS is being loaded, scheduling callback at\", now());\n      return null;\n    }\n    if (js_urls == null || js_urls.length === 0) {\n      run_callbacks();\n      return null;\n    }\n    console.debug(\"Bokeh: BokehJS not loaded, scheduling load and callback at\", now());\n    root._bokeh_is_loading = css_urls.length + js_urls.length;\n\n    function on_load() {\n      root._bokeh_is_loading--;\n      if (root._bokeh_is_loading === 0) {\n        console.debug(\"Bokeh: all BokehJS libraries/stylesheets loaded\");\n        run_callbacks()\n      }\n    }\n\n    function on_error() {\n      console.error(\"failed to load \" + url);\n    }\n\n    for (var i = 0; i < css_urls.length; i++) {\n      var url = css_urls[i];\n      const element = document.createElement(\"link\");\n      element.onload = on_load;\n      element.onerror = on_error;\n      element.rel = \"stylesheet\";\n      element.type = \"text/css\";\n      element.href = url;\n      console.debug(\"Bokeh: injecting link tag for BokehJS stylesheet: \", url);\n      document.body.appendChild(element);\n    }\n\n    for (var i = 0; i < js_urls.length; i++) {\n      var url = js_urls[i];\n      var element = document.createElement('script');\n      element.onload = on_load;\n      element.onerror = on_error;\n      element.async = false;\n      element.src = url;\n      console.debug(\"Bokeh: injecting script tag for BokehJS library: \", url);\n      document.head.appendChild(element);\n    }\n  };var element = document.getElementById(\"1001\");\n  if (element == null) {\n    console.error(\"Bokeh: ERROR: autoload.js configured with elementid '1001' but no matching script tag was found. \")\n    return false;\n  }\n\n  function inject_raw_css(css) {\n    const element = document.createElement(\"style\");\n    element.appendChild(document.createTextNode(css));\n    document.body.appendChild(element);\n  }\n\n  var js_urls = [\"https://cdn.pydata.org/bokeh/release/bokeh-1.2.0.min.js\", \"https://cdn.pydata.org/bokeh/release/bokeh-widgets-1.2.0.min.js\", \"https://cdn.pydata.org/bokeh/release/bokeh-tables-1.2.0.min.js\", \"https://cdn.pydata.org/bokeh/release/bokeh-gl-1.2.0.min.js\"];\n  var css_urls = [\"https://cdn.pydata.org/bokeh/release/bokeh-1.2.0.min.css\", \"https://cdn.pydata.org/bokeh/release/bokeh-widgets-1.2.0.min.css\", \"https://cdn.pydata.org/bokeh/release/bokeh-tables-1.2.0.min.css\"];\n\n  var inline_js = [\n    function(Bokeh) {\n      Bokeh.set_log_level(\"info\");\n    },\n    \n    function(Bokeh) {\n      \n    },\n    function(Bokeh) {} // ensure no trailing comma for IE\n  ];\n\n  function run_inline_js() {\n    \n    if ((root.Bokeh !== undefined) || (force === true)) {\n      for (var i = 0; i < inline_js.length; i++) {\n        inline_js[i].call(root, root.Bokeh);\n      }if (force === true) {\n        display_loaded();\n      }} else if (Date.now() < root._bokeh_timeout) {\n      setTimeout(run_inline_js, 100);\n    } else if (!root._bokeh_failed_load) {\n      console.log(\"Bokeh: BokehJS failed to load within specified timeout.\");\n      root._bokeh_failed_load = true;\n    } else if (force !== true) {\n      var cell = $(document.getElementById(\"1001\")).parents('.cell').data().cell;\n      cell.output_area.append_execute_result(NB_LOAD_WARNING)\n    }\n\n  }\n\n  if (root._bokeh_is_loading === 0) {\n    console.debug(\"Bokeh: BokehJS loaded, going straight to plotting\");\n    run_inline_js();\n  } else {\n    load_libs(css_urls, js_urls, function() {\n      console.debug(\"Bokeh: BokehJS plotting callback run at\", now());\n      run_inline_js();\n    });\n  }\n}(window));"
     },
     "metadata": {},
     "output_type": "display_data"
    }
   ],
   "source": [
    "# Import our numerical workhorse\n",
    "import numpy as np\n",
    "\n",
    "# Our main plotting package (must have explicit import of submodules)\n",
    "import bokeh.io\n",
    "import bokeh.plotting\n",
    "import bokeh.layouts\n",
    "from bokeh.themes import Theme\n",
    "from bokeh.models import CustomJS, WidgetBox, ColumnDataSource\n",
    "from bokeh.models.widgets import Slider, RadioButtonGroup\n",
    "\n",
    "# Enable viewing Bokeh plots in the notebook\n",
    "bokeh.io.output_notebook()"
   ]
  },
  {
   "cell_type": "markdown",
   "metadata": {},
   "source": [
    "The first thing we need to define for the plot are the sliders that we will be able to manipulate. We will need two:\n",
    "1. $s$ for the selection coefficient\n",
    "2. $x_o$ for the initial frequency of the mutant."
   ]
  },
  {
   "cell_type": "code",
   "execution_count": 38,
   "metadata": {},
   "outputs": [
    {
     "data": {
      "text/html": [
       "\n",
       "\n",
       "\n",
       "\n",
       "\n",
       "\n",
       "  <div class=\"bk-root\" id=\"6bdaee9f-a456-4350-8ee9-4f813e5a6467\" data-root-id=\"2314\"></div>\n"
      ]
     },
     "metadata": {},
     "output_type": "display_data"
    },
    {
     "data": {
      "application/javascript": [
       "(function(root) {\n",
       "  function embed_document(root) {\n",
       "    \n",
       "  var docs_json = {\"a7c11530-6d5f-4f72-893e-5c7637a576db\":{\"roots\":{\"references\":[{\"attributes\":{\"children\":[{\"id\":\"2312\",\"type\":\"Slider\"},{\"id\":\"2313\",\"type\":\"Slider\"}]},\"id\":\"2314\",\"type\":\"Column\"},{\"attributes\":{\"callback\":null,\"end\":0.03,\"start\":-0.03,\"step\":0.0001,\"title\":\"s\",\"value\":0},\"id\":\"2312\",\"type\":\"Slider\"},{\"attributes\":{\"callback\":null,\"end\":1,\"start\":0,\"step\":0.05,\"title\":\"x\\u2092\",\"value\":0.25},\"id\":\"2313\",\"type\":\"Slider\"}],\"root_ids\":[\"2314\"]},\"title\":\"Bokeh Application\",\"version\":\"1.2.0\"}};\n",
       "  var render_items = [{\"docid\":\"a7c11530-6d5f-4f72-893e-5c7637a576db\",\"roots\":{\"2314\":\"6bdaee9f-a456-4350-8ee9-4f813e5a6467\"}}];\n",
       "  root.Bokeh.embed.embed_items_notebook(docs_json, render_items);\n",
       "\n",
       "  }\n",
       "  if (root.Bokeh !== undefined) {\n",
       "    embed_document(root);\n",
       "  } else {\n",
       "    var attempts = 0;\n",
       "    var timer = setInterval(function(root) {\n",
       "      if (root.Bokeh !== undefined) {\n",
       "        embed_document(root);\n",
       "        clearInterval(timer);\n",
       "      }\n",
       "      attempts++;\n",
       "      if (attempts > 100) {\n",
       "        console.log(\"Bokeh: ERROR: Unable to run BokehJS code because BokehJS library is missing\");\n",
       "        clearInterval(timer);\n",
       "      }\n",
       "    }, 10, root)\n",
       "  }\n",
       "})(window);"
      ],
      "application/vnd.bokehjs_exec.v0+json": ""
     },
     "metadata": {
      "application/vnd.bokehjs_exec.v0+json": {
       "id": "2314"
      }
     },
     "output_type": "display_data"
    }
   ],
   "source": [
    "# Define the interactions\n",
    "s_select = Slider(title='s', start=-0.03, end=0.03, step=.0001, value=0)\n",
    "x_init = Slider(title='x\\u2092', start=0, end=1, step=0.05, value=0.25)\n",
    "\n",
    "# Sanity check\n",
    "bokeh.io.show(bokeh.layouts.column(s_select, x_init))"
   ]
  },
  {
   "cell_type": "markdown",
   "metadata": {},
   "source": [
    "Now we are ready to prepare the data for the plot. Fro the very simple plot we want to generate all the data we need is a range of $t$ time values.\n",
    "We will generate a `data source` for `bokeh`. This is the equivalent to a `pandas` dataframe where we could put different sources of data. This `data source` will include a precomputed allele frequency such that when the plot is first rendered it is not empty. So we will define a `python` function to compute this initial allele frequency. In the next step we will re-define the function in `javascript` such that the plot can be updated without the need of a `python` kernel."
   ]
  },
  {
   "cell_type": "code",
   "execution_count": 39,
   "metadata": {},
   "outputs": [
    {
     "name": "stderr",
     "output_type": "stream",
     "text": [
      "/Users/razo/anaconda3/lib/python3.7/site-packages/ipykernel_launcher.py:10: RuntimeWarning: invalid value encountered in true_divide\n",
      "  # Remove the CWD from sys.path while we load stuff.\n"
     ]
    }
   ],
   "source": [
    "# Define time array\n",
    "time = np.linspace(0, 10000, 1000)\n",
    "\n",
    "# Define function to compute allele frequency\n",
    "def x_select(t, x_init, s_select):\n",
    "    '''\n",
    "    Computes the allele frequency x for the regime of deterministic\n",
    "    selection acting on a one-locus two-allele system\n",
    "    '''\n",
    "    return x_init * np.exp(s_select * t) / \\\n",
    "    (1 + x_init * (np.exp(s_select * t) - 1))\n",
    "\n",
    "# Define initial values of the parameters\n",
    "x_i = 0.1\n",
    "s_i = 0.1\n",
    "\n",
    "# Generate bokeh data source\n",
    "source = ColumnDataSource({'time': time,\n",
    "                           'x_allele': x_select(time, x_i, s_i)})"
   ]
  },
  {
   "cell_type": "markdown",
   "metadata": {},
   "source": [
    "Now we need to define the `JavaScript` callback function. We will define it using `JavaScript` such that the function can exists as its own standing HTML object without the need for a `python` kernel to render it. Since our function is very simple we can compute this very easily"
   ]
  },
  {
   "cell_type": "code",
   "execution_count": 40,
   "metadata": {},
   "outputs": [],
   "source": [
    "# Define JavaScript callback function\n",
    "cb_script = \"\"\"\n",
    "// Variable definition\n",
    "var data = source.data; \n",
    "var s_select = sSlider.value;\n",
    "var x_init = xoSlider.value;\n",
    "\n",
    "\n",
    "// Function definition\n",
    "function x_select(t, x_init, s_select){\n",
    "    var updated_val =  x_init * Math.exp(s_select * t) / \n",
    "    (1 + x_init * (Math.exp(s_select * t) - 1));\n",
    "    return updated_val;\n",
    "}\n",
    "\n",
    "// Update values using a for loop (since I don't know how to do \n",
    "// vectorized oprations)\n",
    "var updated_allele = []; // temporary variable to update values\n",
    "for (var i = 0; i < data['time'].length; i++){\n",
    "    updated_allele[i] = x_select(data['time'][i], x_init, s_select);\n",
    "}\n",
    "// update x_allele column entry in source\n",
    "data['x_allele'] = updated_allele\n",
    "\n",
    "// Emit data source for plot to be updated\n",
    "source.change.emit();\n",
    "\"\"\""
   ]
  },
  {
   "cell_type": "markdown",
   "metadata": {},
   "source": [
    "Done! Not too bad. Now let's define the arguments for the callback function"
   ]
  },
  {
   "cell_type": "code",
   "execution_count": 41,
   "metadata": {},
   "outputs": [],
   "source": [
    "# Define arguments for JavaScript callback function\n",
    "cb_args = {'source': source, 'sSlider': s_select, 'xoSlider': x_init}\n",
    "# Asign arguments to function\n",
    "cb = CustomJS(args=cb_args, code=cb_script)"
   ]
  },
  {
   "cell_type": "markdown",
   "metadata": {},
   "source": [
    "Now we must assign this callback function to each of the sliders. What this means is that we must indicate that every time the slider value is changed, the `JavaScript` callback function must be executed."
   ]
  },
  {
   "cell_type": "code",
   "execution_count": 42,
   "metadata": {},
   "outputs": [],
   "source": [
    "# Assign callback function to widgets\n",
    "x_init.callback = cb\n",
    "s_select.callback = cb\n",
    "x_init.js_on_change('value', cb)\n",
    "s_select.js_on_change('value', cb)"
   ]
  },
  {
   "cell_type": "markdown",
   "metadata": {},
   "source": [
    "Alright. Now everything is setup for our interactive plot! Now we just need to define the bokeh plot."
   ]
  },
  {
   "cell_type": "code",
   "execution_count": 43,
   "metadata": {},
   "outputs": [
    {
     "data": {
      "text/html": [
       "<div style=\"display: table;\"><div style=\"display: table-row;\"><div style=\"display: table-cell;\"><b title=\"bokeh.models.renderers.GlyphRenderer\">GlyphRenderer</b>(</div><div style=\"display: table-cell;\">id&nbsp;=&nbsp;'2670', <span id=\"2673\" style=\"cursor: pointer;\">&hellip;)</span></div></div><div class=\"2672\" style=\"display: none;\"><div style=\"display: table-cell;\"></div><div style=\"display: table-cell;\">data_source&nbsp;=&nbsp;ColumnDataSource(id='2377', ...),</div></div><div class=\"2672\" style=\"display: none;\"><div style=\"display: table-cell;\"></div><div style=\"display: table-cell;\">glyph&nbsp;=&nbsp;Line(id='2668', ...),</div></div><div class=\"2672\" style=\"display: none;\"><div style=\"display: table-cell;\"></div><div style=\"display: table-cell;\">hover_glyph&nbsp;=&nbsp;None,</div></div><div class=\"2672\" style=\"display: none;\"><div style=\"display: table-cell;\"></div><div style=\"display: table-cell;\">js_event_callbacks&nbsp;=&nbsp;{},</div></div><div class=\"2672\" style=\"display: none;\"><div style=\"display: table-cell;\"></div><div style=\"display: table-cell;\">js_property_callbacks&nbsp;=&nbsp;{},</div></div><div class=\"2672\" style=\"display: none;\"><div style=\"display: table-cell;\"></div><div style=\"display: table-cell;\">level&nbsp;=&nbsp;'glyph',</div></div><div class=\"2672\" style=\"display: none;\"><div style=\"display: table-cell;\"></div><div style=\"display: table-cell;\">muted&nbsp;=&nbsp;False,</div></div><div class=\"2672\" style=\"display: none;\"><div style=\"display: table-cell;\"></div><div style=\"display: table-cell;\">muted_glyph&nbsp;=&nbsp;None,</div></div><div class=\"2672\" style=\"display: none;\"><div style=\"display: table-cell;\"></div><div style=\"display: table-cell;\">name&nbsp;=&nbsp;None,</div></div><div class=\"2672\" style=\"display: none;\"><div style=\"display: table-cell;\"></div><div style=\"display: table-cell;\">nonselection_glyph&nbsp;=&nbsp;Line(id='2669', ...),</div></div><div class=\"2672\" style=\"display: none;\"><div style=\"display: table-cell;\"></div><div style=\"display: table-cell;\">selection_glyph&nbsp;=&nbsp;None,</div></div><div class=\"2672\" style=\"display: none;\"><div style=\"display: table-cell;\"></div><div style=\"display: table-cell;\">subscribed_events&nbsp;=&nbsp;[],</div></div><div class=\"2672\" style=\"display: none;\"><div style=\"display: table-cell;\"></div><div style=\"display: table-cell;\">tags&nbsp;=&nbsp;[],</div></div><div class=\"2672\" style=\"display: none;\"><div style=\"display: table-cell;\"></div><div style=\"display: table-cell;\">view&nbsp;=&nbsp;CDSView(id='2671', ...),</div></div><div class=\"2672\" style=\"display: none;\"><div style=\"display: table-cell;\"></div><div style=\"display: table-cell;\">visible&nbsp;=&nbsp;True,</div></div><div class=\"2672\" style=\"display: none;\"><div style=\"display: table-cell;\"></div><div style=\"display: table-cell;\">x_range_name&nbsp;=&nbsp;'default',</div></div><div class=\"2672\" style=\"display: none;\"><div style=\"display: table-cell;\"></div><div style=\"display: table-cell;\">y_range_name&nbsp;=&nbsp;'default')</div></div></div>\n",
       "<script>\n",
       "(function() {\n",
       "  var expanded = false;\n",
       "  var ellipsis = document.getElementById(\"2673\");\n",
       "  ellipsis.addEventListener(\"click\", function() {\n",
       "    var rows = document.getElementsByClassName(\"2672\");\n",
       "    for (var i = 0; i < rows.length; i++) {\n",
       "      var el = rows[i];\n",
       "      el.style.display = expanded ? \"none\" : \"table-row\";\n",
       "    }\n",
       "    ellipsis.innerHTML = expanded ? \"&hellip;)\" : \"&lsaquo;&lsaquo;&lsaquo;\";\n",
       "    expanded = !expanded;\n",
       "  });\n",
       "})();\n",
       "</script>\n"
      ],
      "text/plain": [
       "GlyphRenderer(id='2670', ...)"
      ]
     },
     "execution_count": 43,
     "metadata": {},
     "output_type": "execute_result"
    }
   ],
   "source": [
    "# Define bokeh axis\n",
    "x_allele_ax = bokeh.plotting.figure(width=300, height=275,\n",
    "                                    x_axis_label='time (a.u.)',\n",
    "                                    y_axis_label='allele frequency',\n",
    "                                    y_range=[0, 1.05])\n",
    "\n",
    "# Populate the plot with our line coming from the Data Source\n",
    "x_allele_ax.line(x='time', y='x_allele', line_width=2, source=source)"
   ]
  },
  {
   "cell_type": "markdown",
   "metadata": {},
   "source": [
    "Now let'set the format for the plotbb"
   ]
  },
  {
   "cell_type": "code",
   "execution_count": 44,
   "metadata": {},
   "outputs": [],
   "source": [
    "theme_json = {'attrs':\n",
    "            {'Figure': {\n",
    "                'background_fill_color': '#E3DCD0',\n",
    "                'outline_line_color': '#FFFFFF',\n",
    "            },\n",
    "            'Axis': {\n",
    "            'axis_line_color': \"white\",\n",
    "            'major_tick_in': 7,\n",
    "            'major_tick_line_width': 2.5,\n",
    "            'major_tick_line_color': \"white\",\n",
    "            'minor_tick_line_color': \"white\",\n",
    "            'axis_label_text_font': 'Helvetica',\n",
    "            'axis_label_text_font_style': 'normal'\n",
    "            },\n",
    "            'Grid': {\n",
    "                'grid_line_color': None,\n",
    "            },\n",
    "            'Legend': {\n",
    "                'background_fill_color': '#E3DCD0',\n",
    "                'border_line_color': '#FFFFFF',\n",
    "                'border_line_width': 1.5,\n",
    "                'background_fill_alpha': 0.5\n",
    "            },\n",
    "            'Text': {\n",
    "                'text_font_style': 'normal',\n",
    "               'text_font': 'Helvetica'\n",
    "            },\n",
    "            'Title': {\n",
    "                'background_fill_color': '#FFEDC0',\n",
    "                'text_font_style': 'normal',\n",
    "                'align': 'center',\n",
    "                'text_font': 'Helvetica',\n",
    "                'offset': 2,\n",
    "            }}}\n",
    "\n",
    "theme = Theme(json=theme_json)\n",
    "bokeh.io.curdoc().theme = theme"
   ]
  },
  {
   "cell_type": "code",
   "execution_count": 45,
   "metadata": {},
   "outputs": [
    {
     "data": {
      "text/html": [
       "\n",
       "\n",
       "\n",
       "\n",
       "\n",
       "\n",
       "  <div class=\"bk-root\" id=\"b293face-b205-4c63-ba67-50759d630c0e\" data-root-id=\"2674\"></div>\n"
      ]
     },
     "metadata": {},
     "output_type": "display_data"
    },
    {
     "data": {
      "application/javascript": [
       "(function(root) {\n",
       "  function embed_document(root) {\n",
       "    \n",
       "  var docs_json = {\"fc1cd377-d5a7-46b0-8dd9-8ec4d1575adb\":{\"roots\":{\"references\":[{\"attributes\":{\"children\":[{\"id\":\"2313\",\"type\":\"Slider\"},{\"id\":\"2312\",\"type\":\"Slider\"},{\"id\":\"2635\",\"subtype\":\"Figure\",\"type\":\"Plot\"}]},\"id\":\"2674\",\"type\":\"Column\"},{\"attributes\":{\"overlay\":{\"id\":\"2747\",\"type\":\"BoxAnnotation\"}},\"id\":\"2656\",\"type\":\"BoxZoomTool\"},{\"attributes\":{\"callback\":{\"id\":\"2378\",\"type\":\"CustomJS\"},\"end\":0.03,\"js_property_callbacks\":{\"change:value\":[{\"id\":\"2378\",\"type\":\"CustomJS\"}]},\"start\":-0.03,\"step\":0.0001,\"title\":\"s\",\"value\":0},\"id\":\"2312\",\"type\":\"Slider\"},{\"attributes\":{\"bottom_units\":\"screen\",\"fill_alpha\":{\"value\":0.5},\"fill_color\":{\"value\":\"lightgrey\"},\"left_units\":\"screen\",\"level\":\"overlay\",\"line_alpha\":{\"value\":1.0},\"line_color\":{\"value\":\"black\"},\"line_dash\":[4,4],\"line_width\":{\"value\":2},\"render_mode\":\"css\",\"right_units\":\"screen\",\"top_units\":\"screen\"},\"id\":\"2747\",\"type\":\"BoxAnnotation\"},{\"attributes\":{\"line_color\":\"#1f77b4\",\"line_width\":2,\"x\":{\"field\":\"time\"},\"y\":{\"field\":\"x_allele\"}},\"id\":\"2668\",\"type\":\"Line\"},{\"attributes\":{},\"id\":\"2645\",\"type\":\"BasicTicker\"},{\"attributes\":{\"callback\":null},\"id\":\"2636\",\"type\":\"DataRange1d\"},{\"attributes\":{},\"id\":\"2658\",\"type\":\"ResetTool\"},{\"attributes\":{\"background_fill_color\":{\"value\":\"#E3DCD0\"},\"below\":[{\"id\":\"2644\",\"type\":\"LinearAxis\"}],\"center\":[{\"id\":\"2648\",\"type\":\"Grid\"},{\"id\":\"2653\",\"type\":\"Grid\"}],\"left\":[{\"id\":\"2649\",\"type\":\"LinearAxis\"}],\"outline_line_color\":{\"value\":\"#FFFFFF\"},\"plot_height\":275,\"plot_width\":300,\"renderers\":[{\"id\":\"2670\",\"type\":\"GlyphRenderer\"}],\"title\":{\"id\":\"2739\",\"type\":\"Title\"},\"toolbar\":{\"id\":\"2660\",\"type\":\"Toolbar\"},\"x_range\":{\"id\":\"2636\",\"type\":\"DataRange1d\"},\"x_scale\":{\"id\":\"2640\",\"type\":\"LinearScale\"},\"y_range\":{\"id\":\"2638\",\"type\":\"Range1d\"},\"y_scale\":{\"id\":\"2642\",\"type\":\"LinearScale\"}},\"id\":\"2635\",\"subtype\":\"Figure\",\"type\":\"Plot\"},{\"attributes\":{},\"id\":\"2743\",\"type\":\"BasicTickFormatter\"},{\"attributes\":{\"dimension\":1,\"grid_line_color\":null,\"ticker\":{\"id\":\"2650\",\"type\":\"BasicTicker\"}},\"id\":\"2653\",\"type\":\"Grid\"},{\"attributes\":{\"args\":{\"sSlider\":{\"id\":\"2312\",\"type\":\"Slider\"},\"source\":{\"id\":\"2377\",\"type\":\"ColumnDataSource\"},\"xoSlider\":{\"id\":\"2313\",\"type\":\"Slider\"}},\"code\":\"\\n// Variable definition\\nvar data = source.data; \\nvar s_select = sSlider.value;\\nvar x_init = xoSlider.value;\\n\\n\\n// Function definition\\nfunction x_select(t, x_init, s_select){\\n    var updated_val =  x_init * Math.exp(s_select * t) / \\n    (1 + x_init * (Math.exp(s_select * t) - 1));\\n    return updated_val;\\n}\\n\\n// Update values using a for loop (since I don't know how to do \\n// vectorized oprations)\\nvar updated_allele = []; // temporary variable to update values\\nfor (var i = 0; i < data['time'].length; i++){\\n    updated_allele[i] = x_select(data['time'][i], x_init, s_select);\\n}\\n// update x_allele column entry in source\\ndata['x_allele'] = updated_allele\\n\\n// Emit data source for plot to be updated\\nsource.change.emit();\\n\"},\"id\":\"2378\",\"type\":\"CustomJS\"},{\"attributes\":{},\"id\":\"2655\",\"type\":\"WheelZoomTool\"},{\"attributes\":{},\"id\":\"2442\",\"type\":\"Selection\"},{\"attributes\":{\"callback\":null,\"end\":1.05},\"id\":\"2638\",\"type\":\"Range1d\"},{\"attributes\":{},\"id\":\"2642\",\"type\":\"LinearScale\"},{\"attributes\":{\"active_drag\":\"auto\",\"active_inspect\":\"auto\",\"active_multi\":null,\"active_scroll\":\"auto\",\"active_tap\":\"auto\",\"tools\":[{\"id\":\"2654\",\"type\":\"PanTool\"},{\"id\":\"2655\",\"type\":\"WheelZoomTool\"},{\"id\":\"2656\",\"type\":\"BoxZoomTool\"},{\"id\":\"2657\",\"type\":\"SaveTool\"},{\"id\":\"2658\",\"type\":\"ResetTool\"},{\"id\":\"2659\",\"type\":\"HelpTool\"}]},\"id\":\"2660\",\"type\":\"Toolbar\"},{\"attributes\":{},\"id\":\"2741\",\"type\":\"BasicTickFormatter\"},{\"attributes\":{\"data_source\":{\"id\":\"2377\",\"type\":\"ColumnDataSource\"},\"glyph\":{\"id\":\"2668\",\"type\":\"Line\"},\"hover_glyph\":null,\"muted_glyph\":null,\"nonselection_glyph\":{\"id\":\"2669\",\"type\":\"Line\"},\"selection_glyph\":null,\"view\":{\"id\":\"2671\",\"type\":\"CDSView\"}},\"id\":\"2670\",\"type\":\"GlyphRenderer\"},{\"attributes\":{},\"id\":\"2640\",\"type\":\"LinearScale\"},{\"attributes\":{\"line_alpha\":0.1,\"line_color\":\"#1f77b4\",\"line_width\":2,\"x\":{\"field\":\"time\"},\"y\":{\"field\":\"x_allele\"}},\"id\":\"2669\",\"type\":\"Line\"},{\"attributes\":{},\"id\":\"2657\",\"type\":\"SaveTool\"},{\"attributes\":{\"callback\":null,\"data\":{\"time\":{\"__ndarray__\":\"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\",\"dtype\":\"float64\",\"shape\":[1000]},\"x_allele\":{\"__ndarray__\":\"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\",\"dtype\":\"float64\",\"shape\":[1000]}},\"selected\":{\"id\":\"2442\",\"type\":\"Selection\"},\"selection_policy\":{\"id\":\"2441\",\"type\":\"UnionRenderers\"}},\"id\":\"2377\",\"type\":\"ColumnDataSource\"},{\"attributes\":{},\"id\":\"2441\",\"type\":\"UnionRenderers\"},{\"attributes\":{},\"id\":\"2650\",\"type\":\"BasicTicker\"},{\"attributes\":{\"axis_label\":\"time (a.u.)\",\"axis_label_text_font\":\"Helvetica\",\"axis_label_text_font_style\":\"normal\",\"axis_line_color\":{\"value\":\"white\"},\"formatter\":{\"id\":\"2741\",\"type\":\"BasicTickFormatter\"},\"major_tick_in\":7,\"major_tick_line_color\":{\"value\":\"white\"},\"major_tick_line_width\":{\"value\":2.5},\"minor_tick_line_color\":{\"value\":\"white\"},\"ticker\":{\"id\":\"2645\",\"type\":\"BasicTicker\"}},\"id\":\"2644\",\"type\":\"LinearAxis\"},{\"attributes\":{\"source\":{\"id\":\"2377\",\"type\":\"ColumnDataSource\"}},\"id\":\"2671\",\"type\":\"CDSView\"},{\"attributes\":{\"axis_label\":\"allele frequency\",\"axis_label_text_font\":\"Helvetica\",\"axis_label_text_font_style\":\"normal\",\"axis_line_color\":{\"value\":\"white\"},\"formatter\":{\"id\":\"2743\",\"type\":\"BasicTickFormatter\"},\"major_tick_in\":7,\"major_tick_line_color\":{\"value\":\"white\"},\"major_tick_line_width\":{\"value\":2.5},\"minor_tick_line_color\":{\"value\":\"white\"},\"ticker\":{\"id\":\"2650\",\"type\":\"BasicTicker\"}},\"id\":\"2649\",\"type\":\"LinearAxis\"},{\"attributes\":{},\"id\":\"2659\",\"type\":\"HelpTool\"},{\"attributes\":{\"callback\":{\"id\":\"2378\",\"type\":\"CustomJS\"},\"end\":1,\"js_property_callbacks\":{\"change:value\":[{\"id\":\"2378\",\"type\":\"CustomJS\"}]},\"start\":0,\"step\":0.05,\"title\":\"x\\u2092\",\"value\":0.25},\"id\":\"2313\",\"type\":\"Slider\"},{\"attributes\":{\"align\":\"center\",\"background_fill_color\":{\"value\":\"#FFEDC0\"},\"offset\":2,\"text\":\"\",\"text_font\":\"Helvetica\",\"text_font_style\":\"normal\"},\"id\":\"2739\",\"type\":\"Title\"},{\"attributes\":{},\"id\":\"2654\",\"type\":\"PanTool\"},{\"attributes\":{\"grid_line_color\":null,\"ticker\":{\"id\":\"2645\",\"type\":\"BasicTicker\"}},\"id\":\"2648\",\"type\":\"Grid\"}],\"root_ids\":[\"2674\"]},\"title\":\"Bokeh Application\",\"version\":\"1.2.0\"}};\n",
       "  var render_items = [{\"docid\":\"fc1cd377-d5a7-46b0-8dd9-8ec4d1575adb\",\"roots\":{\"2674\":\"b293face-b205-4c63-ba67-50759d630c0e\"}}];\n",
       "  root.Bokeh.embed.embed_items_notebook(docs_json, render_items);\n",
       "\n",
       "  }\n",
       "  if (root.Bokeh !== undefined) {\n",
       "    embed_document(root);\n",
       "  } else {\n",
       "    var attempts = 0;\n",
       "    var timer = setInterval(function(root) {\n",
       "      if (root.Bokeh !== undefined) {\n",
       "        embed_document(root);\n",
       "        clearInterval(timer);\n",
       "      }\n",
       "      attempts++;\n",
       "      if (attempts > 100) {\n",
       "        console.log(\"Bokeh: ERROR: Unable to run BokehJS code because BokehJS library is missing\");\n",
       "        clearInterval(timer);\n",
       "      }\n",
       "    }, 10, root)\n",
       "  }\n",
       "})(window);"
      ],
      "application/vnd.bokehjs_exec.v0+json": ""
     },
     "metadata": {
      "application/vnd.bokehjs_exec.v0+json": {
       "id": "2674"
      }
     },
     "output_type": "display_data"
    }
   ],
   "source": [
    "fig = bokeh.layouts.column(x_init, s_select, x_allele_ax)\n",
    "bokeh.io.show(fig)"
   ]
  },
  {
   "cell_type": "code",
   "execution_count": null,
   "metadata": {},
   "outputs": [],
   "source": []
  }
 ],
 "metadata": {
  "kernelspec": {
   "display_name": "Python 3",
   "language": "python",
   "name": "python3"
  },
  "language_info": {
   "codemirror_mode": {
    "name": "ipython",
    "version": 3
   },
   "file_extension": ".py",
   "mimetype": "text/x-python",
   "name": "python",
   "nbconvert_exporter": "python",
   "pygments_lexer": "ipython3",
   "version": "3.7.3"
  }
 },
 "nbformat": 4,
 "nbformat_minor": 2
}
